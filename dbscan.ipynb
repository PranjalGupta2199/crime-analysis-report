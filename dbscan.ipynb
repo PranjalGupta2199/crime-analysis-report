{
 "cells": [
  {
   "cell_type": "markdown",
   "metadata": {},
   "source": [
    "## DBSCAN Clustering"
   ]
  },
  {
   "cell_type": "code",
   "execution_count": 1,
   "metadata": {},
   "outputs": [],
   "source": [
    "import numpy as np\n",
    "import matplotlib.pyplot as plt"
   ]
  },
  {
   "cell_type": "code",
   "execution_count": 65,
   "metadata": {},
   "outputs": [],
   "source": [
    "class DBSCAN(object):\n",
    "    UN_CLASSIFIED = 0\n",
    "    NOISE = -1\n",
    "\n",
    "    UN_VISITED = 0\n",
    "    VISITED = 1\n",
    "\n",
    "    def __init__(self, eps, min_pts):\n",
    "        self.eps = eps\n",
    "        self.minPts = min_pts\n",
    "        self.n_cluster = 1\n",
    "\n",
    "    def fit(self, X):\n",
    "        self._train(X)\n",
    "\n",
    "    def _train(self, X):\n",
    "        n = X.shape[0]\n",
    "        self.labels_ = np.array([DBSCAN.UN_CLASSIFIED] * n)\n",
    "        visited = DBSCAN.UN_VISITED * np.ones(n)\n",
    "\n",
    "        left_classified, = np.where(visited == DBSCAN.UN_VISITED)\n",
    "        while len(left_classified) != 0:\n",
    "            x_idx = left_classified[0]\n",
    "\n",
    "            visited[x_idx] = DBSCAN.VISITED # mark visited\n",
    "            start_point = X[x_idx, :]\n",
    "            n_neighbors, pts = self.get_neighbors(X, start_point)\n",
    "\n",
    "            if n_neighbors < self.minPts:\n",
    "                self.labels_[x_idx] = DBSCAN.NOISE\n",
    "            else:\n",
    "                self.labels_[x_idx] = self.n_cluster\n",
    "                while len(pts) != 0:\n",
    "                    neighor_id = pts[0]\n",
    "                    pts = np.delete(pts, np.where(pts == neighor_id))\n",
    "                    if visited[neighor_id] == DBSCAN.UN_VISITED:\n",
    "                        visited[neighor_id] = DBSCAN.VISITED # mark visited\n",
    "                        n_new_neighors, new_pts = self.get_neighbors(X, X[neighor_id])\n",
    "\n",
    "                        if n_new_neighors >= self.minPts:\n",
    "                            pts = np.concatenate((pts, new_pts), axis=None)\n",
    "\n",
    "                    if self.labels_[neighor_id] == DBSCAN.UN_CLASSIFIED:\n",
    "                        self.labels_[neighor_id] = self.n_cluster\n",
    "\n",
    "                self.n_cluster += 1\n",
    "\n",
    "            left_classified, = np.where(visited == DBSCAN.UN_VISITED)\n",
    "\n",
    "    def get_neighbors(self, X, pt):\n",
    "        dist = np.linalg.norm(X - pt, 2, axis=1)\n",
    "        neighors = np.argsort(dist)\n",
    "        count, = np.where(dist <= self.eps)\n",
    "        return len(count), neighors[:len(count)]\n",
    "    \n",
    "    @staticmethod\n",
    "    def k_nearest_neighbour(X, pt, k):\n",
    "        dist = np.linalg.norm(X - pt, 2, axis=1)\n",
    "        print (dist)\n",
    "        neighors = np.argsort(dist)\n",
    "        k_dist = dist[neighors[k]]\n",
    "        return k_dist\n",
    "\n",
    "    @classmethod\n",
    "    def plot_param_est_curve(cls, data, k_nn):\n",
    "        y = sorted([DBSCAN.k_nearest_neighbour(data, pt, k_nn) for pt in data])\n",
    "        # plot\n",
    "        plt.plot([id_ for id_ in range(len(data))], y, marker='o')\n",
    "        plt.rcParams[\"figure.figsize\"] = [8,8]\n",
    "        plt.xlabel('Points sorted according to k={} nearest neighour'.format(k_nn))\n",
    "        plt.ylabel('k={} Nearest Distance'.format(k_nn))\n",
    "            "
   ]
  },
  {
   "cell_type": "code",
   "execution_count": 66,
   "metadata": {},
   "outputs": [
    {
     "name": "stdout",
     "output_type": "stream",
     "text": [
      "[ 1  1  1  2  2 -1]\n"
     ]
    }
   ],
   "source": [
    "obj = DBSCAN(eps=3, min_pts=2)\n",
    "X = np.array([[1, 2], [2, 2], [2, 3],[8, 7], [8, 8], [25, 80]])\n",
    "obj.fit(X)\n",
    "print(obj.labels_)"
   ]
  },
  {
   "cell_type": "code",
   "execution_count": 68,
   "metadata": {},
   "outputs": [
    {
     "name": "stdout",
     "output_type": "stream",
     "text": [
      "[ 0.          1.          1.41421356  8.60232527  9.21954446 81.60882305]\n",
      "[ 1.          0.          1.          7.81024968  8.48528137 81.32035416]\n",
      "[ 1.41421356  1.          0.          7.21110255  7.81024968 80.36168241]\n",
      "[ 8.60232527  7.81024968  7.21110255  0.          1.         74.95331881]\n",
      "[ 9.21954446  8.48528137  7.81024968  1.          0.         73.97972695]\n",
      "[81.60882305 81.32035416 80.36168241 74.95331881 73.97972695  0.        ]\n"
     ]
    },
    {
     "data": {
      "image/png": "[encoded data removed]",
      "text/plain": [
       "<Figure size 576x576 with 1 Axes>"
      ]
     },
     "metadata": {
      "needs_background": "light"
     },
     "output_type": "display_data"
    }
   ],
   "source": [
    "DBSCAN.plot_param_est_curve(X, 2)"
   ]
  },
  {
   "cell_type": "code",
   "execution_count": null,
   "metadata": {},
   "outputs": [],
   "source": []
  },
  {
   "cell_type": "code",
   "execution_count": null,
   "metadata": {},
   "outputs": [],
   "source": []
  },
  {
   "cell_type": "code",
   "execution_count": null,
   "metadata": {},
   "outputs": [],
   "source": []
  }
 ],
 "metadata": {
  "kernelspec": {
   "display_name": "Python 3.7.4 64-bit ('crime-analysis-report': pipenv)",
   "language": "python",
   "name": "python37464bitcrimeanalysisreportpipenv0ac31493bf424ed3a94c4babbaf0924e"
  },
  "language_info": {
   "codemirror_mode": {
    "name": "ipython",
    "version": 3
   },
   "file_extension": ".py",
   "mimetype": "text/x-python",
   "name": "python",
   "nbconvert_exporter": "python",
   "pygments_lexer": "ipython3",
   "version": "3.7.4"
  }
 },
 "nbformat": 4,
 "nbformat_minor": 4
}
