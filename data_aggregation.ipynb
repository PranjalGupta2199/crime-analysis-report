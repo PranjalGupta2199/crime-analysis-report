{
 "cells": [
  {
   "cell_type": "code",
   "execution_count": 8,
   "metadata": {},
   "outputs": [],
   "source": [
    "import csv\n",
    "import pandas as pd"
   ]
  },
  {
   "cell_type": "code",
   "execution_count": 9,
   "metadata": {},
   "outputs": [],
   "source": [
    "## Removes TOTAL from records\n",
    "\n",
    "path = './dataset/DM_Dataset-T12.csv'\n",
    "csv_reader = csv.reader(open(path, 'r'))\n",
    "all_records = []\n",
    "header = []\n",
    "\n",
    "for idx,record in enumerate(csv_reader):\n",
    "    if idx == 0:\n",
    "        header = [data.lower() for data in record]\n",
    "    elif 'total' not in record[1].lower():\n",
    "        all_records.append([data.lower() for data in record])\n",
    "\n",
    "df = pd.DataFrame(all_records, columns=header)\n",
    "for column in header[3:]:\n",
    "    df[column] = df[column].apply(pd.to_numeric, errors='coerce')\n",
    "df.drop(['infanticide', 'literacy rate- total', 'literacy rate - rural', 'literacy rate - urban'], axis=1, inplace=True)"
   ]
  },
  {
   "cell_type": "code",
   "execution_count": 10,
   "metadata": {},
   "outputs": [
    {
     "data": {
      "text/plain": [
       "array(['andhra pradesh', 'arunachal pradesh', 'assam', 'bihar',\n",
       "       'chhattisgarh', 'goa', 'gujarat', 'haryana', 'himachal pradesh',\n",
       "       'jammu & kashmir', 'jharkhand', 'karnataka', 'kerala',\n",
       "       'madhya pradesh', 'maharashtra', 'manipur', 'meghalaya', 'mizoram',\n",
       "       'nagaland', 'odisha', 'punjab', 'rajasthan', 'sikkim',\n",
       "       'tamil nadu', 'tripura', 'uttar pradesh', 'uttarakhand',\n",
       "       'west bengal', 'a & n islands', 'chandigarh', 'd & n haveli',\n",
       "       'daman & diu', 'delhi', 'lakshadweep', 'puducherry', 'a&n islands',\n",
       "       'd&n haveli', 'delhi ut', 'telangana'], dtype=object)"
      ]
     },
     "execution_count": 10,
     "metadata": {},
     "output_type": "execute_result"
    }
   ],
   "source": [
    "df.state.unique()"
   ]
  },
  {
   "cell_type": "code",
   "execution_count": 11,
   "metadata": {},
   "outputs": [
    {
     "data": {
      "text/plain": [
       "36"
      ]
     },
     "execution_count": 11,
     "metadata": {},
     "output_type": "execute_result"
    }
   ],
   "source": [
    "for i in range (len(df)):\n",
    "    if df['state'].loc[i] == 'a & n islands': df['state'].loc[i] = 'a&n islands'\n",
    "    if df['state'].loc[i] == 'd & n haveli': df['state'].loc[i] = 'd&n haveli'\n",
    "    if df['state'].loc[i] == 'delhi ut': df['state'].loc[i] = 'delhi'\n",
    "len(df.state.unique())"
   ]
  },
  {
   "cell_type": "code",
   "execution_count": 12,
   "metadata": {},
   "outputs": [],
   "source": [
    "state_clubbed = []\n",
    "state_index = 0\n",
    "state = 0\n",
    "\n",
    "while state_index < len(df):\n",
    "    state = df['state'].loc[state_index]\n",
    "    year = df['year'].loc[state_index]\n",
    "    dist_index = state_index\n",
    "    while dist_index < len(df) and df['state'].loc[dist_index] == state:\n",
    "        dist_index += 1\n",
    "    temp = df.iloc[state_index : dist_index].drop(['state', 'district', 'year'], axis=1).sum().to_list()\n",
    "    temp.insert(0,state)\n",
    "    temp.insert(1,int(year))\n",
    "    state_clubbed.append(temp)\n",
    "    \n",
    "    state_index = dist_index\n",
    "        "
   ]
  },
  {
   "cell_type": "code",
   "execution_count": 13,
   "metadata": {},
   "outputs": [],
   "source": [
    "state_df = pd.DataFrame(state_clubbed)"
   ]
  },
  {
   "cell_type": "code",
   "execution_count": 16,
   "metadata": {},
   "outputs": [
    {
     "data": {
      "text/html": [
       "<div>\n",
       "<style scoped>\n",
       "    .dataframe tbody tr th:only-of-type {\n",
       "        vertical-align: middle;\n",
       "    }\n",
       "\n",
       "    .dataframe tbody tr th {\n",
       "        vertical-align: top;\n",
       "    }\n",
       "\n",
       "    .dataframe thead th {\n",
       "        text-align: right;\n",
       "    }\n",
       "</style>\n",
       "<table border=\"1\" class=\"dataframe\">\n",
       "  <thead>\n",
       "    <tr style=\"text-align: right;\">\n",
       "      <th></th>\n",
       "      <th>0</th>\n",
       "      <th>1</th>\n",
       "      <th>2</th>\n",
       "      <th>3</th>\n",
       "      <th>4</th>\n",
       "      <th>5</th>\n",
       "      <th>6</th>\n",
       "      <th>7</th>\n",
       "      <th>8</th>\n",
       "      <th>9</th>\n",
       "      <th>10</th>\n",
       "      <th>11</th>\n",
       "      <th>12</th>\n",
       "    </tr>\n",
       "  </thead>\n",
       "  <tbody>\n",
       "    <tr>\n",
       "      <th>0</th>\n",
       "      <td>andhra pradesh</td>\n",
       "      <td>2001</td>\n",
       "      <td>35.0</td>\n",
       "      <td>84.0</td>\n",
       "      <td>0.0</td>\n",
       "      <td>57.0</td>\n",
       "      <td>7.0</td>\n",
       "      <td>22.0</td>\n",
       "      <td>12.0</td>\n",
       "      <td>0.0</td>\n",
       "      <td>6.0</td>\n",
       "      <td>47.0</td>\n",
       "      <td>270.0</td>\n",
       "    </tr>\n",
       "    <tr>\n",
       "      <th>1</th>\n",
       "      <td>arunachal pradesh</td>\n",
       "      <td>2001</td>\n",
       "      <td>0.0</td>\n",
       "      <td>0.0</td>\n",
       "      <td>0.0</td>\n",
       "      <td>0.0</td>\n",
       "      <td>0.0</td>\n",
       "      <td>0.0</td>\n",
       "      <td>0.0</td>\n",
       "      <td>0.0</td>\n",
       "      <td>0.0</td>\n",
       "      <td>0.0</td>\n",
       "      <td>0.0</td>\n",
       "    </tr>\n",
       "    <tr>\n",
       "      <th>2</th>\n",
       "      <td>assam</td>\n",
       "      <td>2001</td>\n",
       "      <td>0.0</td>\n",
       "      <td>0.0</td>\n",
       "      <td>0.0</td>\n",
       "      <td>18.0</td>\n",
       "      <td>0.0</td>\n",
       "      <td>0.0</td>\n",
       "      <td>0.0</td>\n",
       "      <td>0.0</td>\n",
       "      <td>0.0</td>\n",
       "      <td>0.0</td>\n",
       "      <td>18.0</td>\n",
       "    </tr>\n",
       "    <tr>\n",
       "      <th>3</th>\n",
       "      <td>bihar</td>\n",
       "      <td>2001</td>\n",
       "      <td>2.0</td>\n",
       "      <td>16.0</td>\n",
       "      <td>0.0</td>\n",
       "      <td>26.0</td>\n",
       "      <td>0.0</td>\n",
       "      <td>1.0</td>\n",
       "      <td>16.0</td>\n",
       "      <td>1.0</td>\n",
       "      <td>2.0</td>\n",
       "      <td>18.0</td>\n",
       "      <td>83.0</td>\n",
       "    </tr>\n",
       "    <tr>\n",
       "      <th>4</th>\n",
       "      <td>chhattisgarh</td>\n",
       "      <td>2001</td>\n",
       "      <td>14.0</td>\n",
       "      <td>150.0</td>\n",
       "      <td>5.0</td>\n",
       "      <td>46.0</td>\n",
       "      <td>1.0</td>\n",
       "      <td>15.0</td>\n",
       "      <td>0.0</td>\n",
       "      <td>0.0</td>\n",
       "      <td>0.0</td>\n",
       "      <td>354.0</td>\n",
       "      <td>585.0</td>\n",
       "    </tr>\n",
       "  </tbody>\n",
       "</table>\n",
       "</div>"
      ],
      "text/plain": [
       "                   0     1     2      3    4     5    6     7     8    9   10  \\\n",
       "0     andhra pradesh  2001  35.0   84.0  0.0  57.0  7.0  22.0  12.0  0.0  6.0   \n",
       "1  arunachal pradesh  2001   0.0    0.0  0.0   0.0  0.0   0.0   0.0  0.0  0.0   \n",
       "2              assam  2001   0.0    0.0  0.0  18.0  0.0   0.0   0.0  0.0  0.0   \n",
       "3              bihar  2001   2.0   16.0  0.0  26.0  0.0   1.0  16.0  1.0  2.0   \n",
       "4       chhattisgarh  2001  14.0  150.0  5.0  46.0  1.0  15.0   0.0  0.0  0.0   \n",
       "\n",
       "      11     12  \n",
       "0   47.0  270.0  \n",
       "1    0.0    0.0  \n",
       "2    0.0   18.0  \n",
       "3   18.0   83.0  \n",
       "4  354.0  585.0  "
      ]
     },
     "execution_count": 16,
     "metadata": {},
     "output_type": "execute_result"
    }
   ],
   "source": [
    "state_df.dtypes\n",
    "state_df.head()"
   ]
  },
  {
   "cell_type": "code",
   "execution_count": 17,
   "metadata": {},
   "outputs": [],
   "source": [
    "df.to_pickle('state_df.pickle')"
   ]
  },
  {
   "cell_type": "code",
   "execution_count": 172,
   "metadata": {},
   "outputs": [],
   "source": []
  },
  {
   "cell_type": "code",
   "execution_count": 173,
   "metadata": {},
   "outputs": [],
   "source": []
  },
  {
   "cell_type": "code",
   "execution_count": 174,
   "metadata": {},
   "outputs": [
    {
     "data": {
      "text/plain": [
       "[1, 2, 3]"
      ]
     },
     "execution_count": 174,
     "metadata": {},
     "output_type": "execute_result"
    }
   ],
   "source": []
  },
  {
   "cell_type": "code",
   "execution_count": null,
   "metadata": {},
   "outputs": [],
   "source": []
  }
 ],
 "metadata": {
  "kernelspec": {
   "display_name": "Python 3",
   "language": "python",
   "name": "python3"
  },
  "language_info": {
   "codemirror_mode": {
    "name": "ipython",
    "version": 3
   },
   "file_extension": ".py",
   "mimetype": "text/x-python",
   "name": "python",
   "nbconvert_exporter": "python",
   "pygments_lexer": "ipython3",
   "version": "3.7.4"
  }
 },
 "nbformat": 4,
 "nbformat_minor": 4
}
