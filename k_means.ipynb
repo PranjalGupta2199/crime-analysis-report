{
 "cells": [
  {
   "cell_type": "code",
   "execution_count": 1,
   "metadata": {},
   "outputs": [],
   "source": [
    "import numpy as np\n",
    "import matplotlib.pyplot as plt\n",
    "import pickle"
   ]
  },
  {
   "cell_type": "code",
   "execution_count": 55,
   "metadata": {},
   "outputs": [],
   "source": [
    "class KMeans:\n",
    "    \n",
    "    def __init__(self, n_clusters, n_iter=1000, n_init=10, limit=1e-6):\n",
    "        self.n_clusters = n_clusters\n",
    "        self.n_iter = n_iter\n",
    "        self.limit = limit\n",
    "        self.n_init = n_init\n",
    "        self.cluster_centers_ = None\n",
    "        self.error = None\n",
    "        self.labels = None\n",
    "\n",
    "    def _reinit(self, path):\n",
    "        with open(path, 'rb') as f:\n",
    "            curr_best = pickle.load(f)\n",
    "\n",
    "        for k in curr_best.__dict__.keys():\n",
    "            setattr(self, k, getattr(curr_best, k))\n",
    "    \n",
    "    def _save(self, path):\n",
    "        with open(path, 'wb') as f:\n",
    "            pickle.dump(self, f)\n",
    "    \n",
    "    def _load(self, path):\n",
    "        with open(path, 'rb') as f:\n",
    "            return pickle.load(f)\n",
    "\n",
    "    def init_centers(self, X):\n",
    "        shuffe_data = np.random.permutation(X)\n",
    "        return shuffe_data[:self.n_clusters]\n",
    "        \n",
    "    def compute_dist(self, X):\n",
    "        dist = np.zeros((X.shape[0], self.n_clusters))\n",
    "        for k, center in enumerate(self.cluster_centers_):\n",
    "            dist[:,k] = np.linalg.norm(X - center, 2, axis=1)\n",
    "        return dist\n",
    "\n",
    "    def assign(self, dist_matrix):\n",
    "        return np.argmin(dist_matrix, axis=1)\n",
    "    \n",
    "    def centroids(self, X, labels):\n",
    "        _centers = np.zeros((self.n_clusters, X.shape[1]))\n",
    "        for k in range(self.n_clusters):\n",
    "            _centers[k, :] = np.mean(X[labels == k, :], axis=0)\n",
    "        return _centers\n",
    "    \n",
    "    def get_error(self, X, labels, centers):\n",
    "        _dist = np.zeros(X.shape[0])\n",
    "        for k in range(self.n_clusters):\n",
    "            _dist[labels == k] = np.linalg.norm(X[labels == k] - centers[k], axis=1)\n",
    "        return np.sum(np.square(_dist))\n",
    "    \n",
    "    def _train(self, X, centroids=None):\n",
    "        self.cluster_centers_ = self.init_centers(X) if centroids is None else centroids\n",
    "        for _iter in range(self.n_iter):\n",
    "            old_centers = self.cluster_centers_\n",
    "            dist = self.compute_dist(X)\n",
    "            labels = self.assign(dist)\n",
    "            self.cluster_centers_ = self.centroids(X, labels)\n",
    "            self.error = self.get_error(X, labels, self.cluster_centers_)\n",
    "    \n",
    "            if (np.all(old_centers == self.cluster_centers_) or self.error < self.limit):\n",
    "                break\n",
    "   \n",
    "    def fit(self, X, path='./saved_model.pickle', centroids=None, verbose=False):\n",
    "        curr_best = -1\n",
    "    \n",
    "        for _ in range(self.n_init):\n",
    "            self._train(X, centroids)\n",
    "            if verbose:\n",
    "                print (\"{:3}/{} :: Error - {}\".format(_, self.n_init, self.error))\n",
    "            \n",
    "            if curr_best == -1 or self.error < curr_best:\n",
    "                curr_best = self.error\n",
    "                self._save(path)\n",
    "        \n",
    "        self._reinit(path)\n",
    "        self.labels = self.predict(X)\n",
    "\n",
    "    def predict(self, Y):\n",
    "        _dist = self.compute_dist(Y)\n",
    "        return self.assign(_dist)\n",
    "\n",
    "    @classmethod\n",
    "    def plot_elbow_curve(cls, data, start, end, step):\n",
    "        \"\"\"Plots the Curve of distortion vs Number of Clusters against the data.\n",
    "        Helps you choose an optimal number of clusters\"\"\"\n",
    "        distortions = []\n",
    "        n_cluster = []\n",
    "        for i in range (start, end + 1, step):\n",
    "            n_cluster.append(i)\n",
    "            temp_obj = KMeans(i)\n",
    "            temp_obj.fit(X)\n",
    "            distortions.append(temp_obj.error)\n",
    "\n",
    "        # plot\n",
    "        plt.plot(n_cluster, distortions, marker='o')\n",
    "        plt.xlabel('Number of clusters')\n",
    "        plt.ylabel('Distortion')\n",
    "        "
   ]
  },
  {
   "cell_type": "code",
   "execution_count": 56,
   "metadata": {},
   "outputs": [],
   "source": [
    "X = np.array([[1, 2], [1, 4], [1, 0], [10, 2], [10, 4], [10, 0]])"
   ]
  },
  {
   "cell_type": "code",
   "execution_count": 57,
   "metadata": {
    "scrolled": true
   },
   "outputs": [
    {
     "ename": "SyntaxError",
     "evalue": "unexpected EOF while parsing (<ipython-input-57-a96bf6f15d8a>, line 2)",
     "output_type": "error",
     "traceback": [
      "\u001b[0;36m  File \u001b[0;32m\"<ipython-input-57-a96bf6f15d8a>\"\u001b[0;36m, line \u001b[0;32m2\u001b[0m\n\u001b[0;31m    k.fit(X, './saved_model.pickle', verbose=True\u001b[0m\n\u001b[0m                                                 ^\u001b[0m\n\u001b[0;31mSyntaxError\u001b[0m\u001b[0;31m:\u001b[0m unexpected EOF while parsing\n"
     ]
    }
   ],
   "source": [
    "k = KMeans(n_clusters=2, n_iter=1000, n_init=10)\n",
    "k.fit(X, './saved_model.pickle', verbose=True)"
   ]
  },
  {
   "cell_type": "code",
   "execution_count": 58,
   "metadata": {},
   "outputs": [
    {
     "data": {
      "text/plain": [
       "array([1, 1, 1, 0, 0, 0])"
      ]
     },
     "execution_count": 58,
     "metadata": {},
     "output_type": "execute_result"
    }
   ],
   "source": [
    "k.labels"
   ]
  },
  {
   "cell_type": "code",
   "execution_count": 59,
   "metadata": {},
   "outputs": [
    {
     "data": {
      "text/plain": [
       "array([[10.,  2.],\n",
       "       [ 1.,  2.]])"
      ]
     },
     "execution_count": 59,
     "metadata": {},
     "output_type": "execute_result"
    }
   ],
   "source": [
    "k.cluster_centers_"
   ]
  },
  {
   "cell_type": "code",
   "execution_count": 54,
   "metadata": {
    "scrolled": true
   },
   "outputs": [
    {
     "data": {
      "image/png": "[encoded data removed]",
      "text/plain": [
       "<Figure size 432x288 with 1 Axes>"
      ]
     },
     "metadata": {
      "needs_background": "light"
     },
     "output_type": "display_data"
    }
   ],
   "source": [
    "KMeans.plot_elbow_curve(X, 1, 6, 1)"
   ]
  },
  {
   "cell_type": "code",
   "execution_count": null,
   "metadata": {},
   "outputs": [],
   "source": []
  },
  {
   "cell_type": "code",
   "execution_count": 42,
   "metadata": {},
   "outputs": [],
   "source": []
  },
  {
   "cell_type": "code",
   "execution_count": null,
   "metadata": {},
   "outputs": [],
   "source": []
  },
  {
   "cell_type": "code",
   "execution_count": null,
   "metadata": {},
   "outputs": [],
   "source": []
  },
  {
   "cell_type": "code",
   "execution_count": null,
   "metadata": {},
   "outputs": [],
   "source": []
  },
  {
   "cell_type": "code",
   "execution_count": null,
   "metadata": {},
   "outputs": [],
   "source": []
  }
 ],
 "metadata": {
  "kernelspec": {
   "display_name": "Python 3.7.4 64-bit ('crime-analysis-report': pipenv)",
   "language": "python",
   "name": "python37464bitcrimeanalysisreportpipenv0ac31493bf424ed3a94c4babbaf0924e"
  },
  "language_info": {
   "codemirror_mode": {
    "name": "ipython",
    "version": 3
   },
   "file_extension": ".py",
   "mimetype": "text/x-python",
   "name": "python",
   "nbconvert_exporter": "python",
   "pygments_lexer": "ipython3",
   "version": "3.7.4"
  }
 },
 "nbformat": 4,
 "nbformat_minor": 4
}
