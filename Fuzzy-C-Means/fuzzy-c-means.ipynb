{
 "cells": [
  {
   "cell_type": "code",
   "execution_count": 273,
   "metadata": {},
   "outputs": [],
   "source": [
    "import numpy as np\n",
    "import matplotlib.pyplot as plt"
   ]
  },
  {
   "cell_type": "code",
   "execution_count": 274,
   "metadata": {},
   "outputs": [],
   "source": [
    "X = np.array([[1, 6], [2, 5], [3, 8], [4, 4], [5, 7], [6, 9]])"
   ]
  },
  {
   "cell_type": "code",
   "execution_count": 275,
   "metadata": {},
   "outputs": [],
   "source": [
    "class FuzzyCMeans:\n",
    "    \n",
    "    def __init__(self, X, n_clusters, n_iter=100, limit=1e-3, p=2):\n",
    "        self.X = X\n",
    "        self.n_clusters = n_clusters\n",
    "        self.n_iter = n_iter\n",
    "        self.limit = limit\n",
    "        self.p = p\n",
    "        self.error = 0\n",
    "        self.distance_matrix = None\n",
    "        self.centroids = np.zeros((self.n_clusters, len(self.X[0])))\n",
    "        self.membership_matrix = self.init_membership_matrix()\n",
    "\n",
    "            \n",
    "    def init_membership_matrix(self):\n",
    "        temp = np.zeros((1, self.n_clusters))\n",
    "        for i in range(len(self.X)):\n",
    "            temp = np.append(temp, np.reshape(np.random.dirichlet(np.ones(self.n_clusters), size=1), (1, self.n_clusters)), axis=0)\n",
    "        return temp[1:]\n",
    "    \n",
    "    def update_centroids(self):\n",
    "        for k in range(self.n_clusters):\n",
    "            for i in range(len(self.X[0])):\n",
    "                num, den = (0, 0)\n",
    "                for j in range(len(self.X)):\n",
    "                    num = num + (self.X[j][i] * pow(self.membership_matrix[j][k], self.p))\n",
    "                    den = den + (pow(self.membership_matrix[j][k], self.p))\n",
    "                self.centroids[k][i] = num / den\n",
    "                \n",
    "    def update_distance_matrix(self):\n",
    "        if self.distance_matrix is None:\n",
    "            self.distance_matrix = np.zeros((len(self.X), self.n_clusters))\n",
    "            \n",
    "        for i in range(len(self.X)):\n",
    "            for j in range(self.n_clusters):\n",
    "                self.distance_matrix[i][j] = np.linalg.norm(self.X[i] - self.centroids[j])\n",
    "    \n",
    "    def update_membership_matrix(self):\n",
    "        for i in range(len(self.X)):\n",
    "            for j in range(self.n_clusters):\n",
    "                u1, u2 = (pow(1 / self.distance_matrix[i][j], 1 / (self.p - 1)), 0)\n",
    "                for k in range(self.n_clusters):\n",
    "                    u2 = u2 + pow(1 / self.distance_matrix[i][k], 1 / (self.p-1))\n",
    "                self.membership_matrix[i][j] = u1 / u2\n",
    "                \n",
    "    def calculate_error(self):\n",
    "        error = 0\n",
    "        for i in range(len(self.X)):\n",
    "            for j in range(self.n_clusters):\n",
    "                error = error + (pow(self.membership_matrix[i][j], self.p) * pow(self.distance_matrix[i][j], 2))\n",
    "        self.error = error\n",
    "        \n",
    "    def train(self):\n",
    "        for i in range(self.n_iter):\n",
    "            old_centroids = np.copy(self.centroids)\n",
    "            old_error = self.error\n",
    "            self.update_centroids()\n",
    "            self.update_distance_matrix()\n",
    "            self.update_membership_matrix()\n",
    "            self.calculate_error()\n",
    "            \n",
    "            if (abs(old_error - self.error) < self.limit) or (np.sum(np.abs(old_centroids - self.centroids)) < 0.0001):\n",
    "                break\n",
    "                \n",
    "    @classmethod\n",
    "    def plot_elbow_curve(cls, start, end, step):\n",
    "        errors = []\n",
    "        n_cluster = []\n",
    "        for i in range(start, end + 1, step):\n",
    "            n_cluster.append(i)\n",
    "            temp_obj = FuzzyCMeans(X, i)\n",
    "            temp_obj.train()\n",
    "            errors.append(temp_obj.error)\n",
    "        \n",
    "        plt.plot(n_cluster, errors, marker='o')\n",
    "        plt.xlabel('Number of Clusters')\n",
    "        plt.ylabel('Error')"
   ]
  },
  {
   "cell_type": "code",
   "execution_count": 276,
   "metadata": {},
   "outputs": [
    {
     "data": {
      "text/plain": [
       "array([[4.55358553, 7.41220545],\n",
       "       [2.46120759, 5.56306365]])"
      ]
     },
     "execution_count": 276,
     "metadata": {},
     "output_type": "execute_result"
    }
   ],
   "source": [
    "temp = FuzzyCMeans(X, 2)\n",
    "temp.train()\n",
    "temp.centroids"
   ]
  },
  {
   "cell_type": "code",
   "execution_count": 277,
   "metadata": {
    "scrolled": false
   },
   "outputs": [
    {
     "data": {
      "image/png": "[encoded data removed]",
      "text/plain": [
       "<Figure size 432x288 with 1 Axes>"
      ]
     },
     "metadata": {
      "needs_background": "light"
     },
     "output_type": "display_data"
    }
   ],
   "source": [
    "FuzzyCMeans.plot_elbow_curve(1, 10, 1)"
   ]
  }
 ],
 "metadata": {
  "kernelspec": {
   "display_name": "Python 3",
   "language": "python",
   "name": "python3"
  },
  "language_info": {
   "codemirror_mode": {
    "name": "ipython",
    "version": 3
   },
   "file_extension": ".py",
   "mimetype": "text/x-python",
   "name": "python",
   "nbconvert_exporter": "python",
   "pygments_lexer": "ipython3",
   "version": "3.7.4"
  }
 },
 "nbformat": 4,
 "nbformat_minor": 4
}
