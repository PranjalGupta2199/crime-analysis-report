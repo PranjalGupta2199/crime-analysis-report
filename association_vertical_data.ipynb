{
 "cells": [
  {
   "cell_type": "markdown",
   "metadata": {},
   "source": [
    "<h1>Vertical data format algorithm </h1>\n",
    "<hr>\n",
    "<body>\n",
    "<ul>\n",
    "<li>First, we transform the horizontally formatted data into the vertical format by scanning the data set once. The support count of an itemset is simply the length of the TID set of the itemset.\n",
    "<li>Starting with k = 1, the frequent k-itemsets can be used to construct the candidate (k+1)-itemsets based on the Apriori property.\n",
    "<li>The computation is done by intersection of the TID sets of the frequent k-itemsets to compute the TID sets of the corresponding (k+1)-itemsets.\n",
    "<li>This process repeats, with k incremented by 1 each time, until no frequent itemsets or candidate itemsets can be found.\n",
    "</ul>\n",
    "</body>"
   ]
  },
  {
   "cell_type": "code",
   "execution_count": null,
   "metadata": {},
   "outputs": [],
   "source": [
    "import pandas as pd\n",
    "import itertools "
   ]
  },
  {
   "cell_type": "code",
   "execution_count": 2,
   "metadata": {},
   "outputs": [],
   "source": [
    "crimes = pd.read_csv(\"./dataset/binarized.csv\")"
   ]
  },
  {
   "cell_type": "code",
   "execution_count": 3,
   "metadata": {},
   "outputs": [
    {
     "data": {
      "text/html": [
       "<div>\n",
       "<style scoped>\n",
       "    .dataframe tbody tr th:only-of-type {\n",
       "        vertical-align: middle;\n",
       "    }\n",
       "\n",
       "    .dataframe tbody tr th {\n",
       "        vertical-align: top;\n",
       "    }\n",
       "\n",
       "    .dataframe thead th {\n",
       "        text-align: right;\n",
       "    }\n",
       "</style>\n",
       "<table border=\"1\" class=\"dataframe\">\n",
       "  <thead>\n",
       "    <tr style=\"text-align: right;\">\n",
       "      <th></th>\n",
       "      <th>Unnamed: 0</th>\n",
       "      <th>State</th>\n",
       "      <th>Year</th>\n",
       "      <th>Murder</th>\n",
       "      <th>Rape</th>\n",
       "      <th>Foeticide</th>\n",
       "      <th>Kidnapping and Abduction</th>\n",
       "      <th>Abetment of suicide</th>\n",
       "      <th>Exposure and abandonment</th>\n",
       "      <th>Procuration of minor girls</th>\n",
       "      <th>Selling of girls for prostitution</th>\n",
       "      <th>Prohibition of child marriage act</th>\n",
       "      <th>Other Crimes</th>\n",
       "    </tr>\n",
       "  </thead>\n",
       "  <tbody>\n",
       "    <tr>\n",
       "      <th>0</th>\n",
       "      <td>0</td>\n",
       "      <td>andhra pradesh</td>\n",
       "      <td>2001</td>\n",
       "      <td>1.0</td>\n",
       "      <td>0.0</td>\n",
       "      <td>0.0</td>\n",
       "      <td>1.0</td>\n",
       "      <td>1.0</td>\n",
       "      <td>0.0</td>\n",
       "      <td>0.0</td>\n",
       "      <td>0.0</td>\n",
       "      <td>0.0</td>\n",
       "      <td>0.0</td>\n",
       "    </tr>\n",
       "    <tr>\n",
       "      <th>1</th>\n",
       "      <td>1</td>\n",
       "      <td>andhra pradesh</td>\n",
       "      <td>2001</td>\n",
       "      <td>0.0</td>\n",
       "      <td>0.0</td>\n",
       "      <td>0.0</td>\n",
       "      <td>0.0</td>\n",
       "      <td>0.0</td>\n",
       "      <td>1.0</td>\n",
       "      <td>1.0</td>\n",
       "      <td>0.0</td>\n",
       "      <td>1.0</td>\n",
       "      <td>0.0</td>\n",
       "    </tr>\n",
       "    <tr>\n",
       "      <th>2</th>\n",
       "      <td>2</td>\n",
       "      <td>andhra pradesh</td>\n",
       "      <td>2001</td>\n",
       "      <td>0.0</td>\n",
       "      <td>1.0</td>\n",
       "      <td>0.0</td>\n",
       "      <td>0.0</td>\n",
       "      <td>0.0</td>\n",
       "      <td>1.0</td>\n",
       "      <td>1.0</td>\n",
       "      <td>0.0</td>\n",
       "      <td>0.0</td>\n",
       "      <td>0.0</td>\n",
       "    </tr>\n",
       "    <tr>\n",
       "      <th>3</th>\n",
       "      <td>3</td>\n",
       "      <td>andhra pradesh</td>\n",
       "      <td>2001</td>\n",
       "      <td>0.0</td>\n",
       "      <td>1.0</td>\n",
       "      <td>0.0</td>\n",
       "      <td>1.0</td>\n",
       "      <td>0.0</td>\n",
       "      <td>0.0</td>\n",
       "      <td>1.0</td>\n",
       "      <td>0.0</td>\n",
       "      <td>0.0</td>\n",
       "      <td>0.0</td>\n",
       "    </tr>\n",
       "    <tr>\n",
       "      <th>4</th>\n",
       "      <td>4</td>\n",
       "      <td>andhra pradesh</td>\n",
       "      <td>2001</td>\n",
       "      <td>0.0</td>\n",
       "      <td>0.0</td>\n",
       "      <td>0.0</td>\n",
       "      <td>0.0</td>\n",
       "      <td>0.0</td>\n",
       "      <td>0.0</td>\n",
       "      <td>0.0</td>\n",
       "      <td>0.0</td>\n",
       "      <td>1.0</td>\n",
       "      <td>1.0</td>\n",
       "    </tr>\n",
       "  </tbody>\n",
       "</table>\n",
       "</div>"
      ],
      "text/plain": [
       "   Unnamed: 0           State  Year  Murder  Rape  Foeticide  \\\n",
       "0           0  andhra pradesh  2001     1.0   0.0        0.0   \n",
       "1           1  andhra pradesh  2001     0.0   0.0        0.0   \n",
       "2           2  andhra pradesh  2001     0.0   1.0        0.0   \n",
       "3           3  andhra pradesh  2001     0.0   1.0        0.0   \n",
       "4           4  andhra pradesh  2001     0.0   0.0        0.0   \n",
       "\n",
       "   Kidnapping and Abduction  Abetment of suicide  Exposure and abandonment  \\\n",
       "0                       1.0                  1.0                       0.0   \n",
       "1                       0.0                  0.0                       1.0   \n",
       "2                       0.0                  0.0                       1.0   \n",
       "3                       1.0                  0.0                       0.0   \n",
       "4                       0.0                  0.0                       0.0   \n",
       "\n",
       "   Procuration of minor girls  Selling of girls for prostitution  \\\n",
       "0                         0.0                                0.0   \n",
       "1                         1.0                                0.0   \n",
       "2                         1.0                                0.0   \n",
       "3                         1.0                                0.0   \n",
       "4                         0.0                                0.0   \n",
       "\n",
       "   Prohibition of child marriage act  Other Crimes  \n",
       "0                                0.0           0.0  \n",
       "1                                1.0           0.0  \n",
       "2                                0.0           0.0  \n",
       "3                                0.0           0.0  \n",
       "4                                1.0           1.0  "
      ]
     },
     "execution_count": 3,
     "metadata": {},
     "output_type": "execute_result"
    }
   ],
   "source": [
    "crimes.head(n=5)"
   ]
  },
  {
   "cell_type": "code",
   "execution_count": 4,
   "metadata": {},
   "outputs": [
    {
     "name": "stdout",
     "output_type": "stream",
     "text": [
      "1187\n",
      "1240\n",
      "447\n",
      "1185\n",
      "323\n",
      "666\n",
      "429\n",
      "154\n",
      "528\n",
      "968\n"
     ]
    }
   ],
   "source": [
    "vert_data = {}\n",
    "for i in range(3,13):\n",
    "    temp = []\n",
    "    for j in range(len(crimes)):\n",
    "       if(crimes.iloc[j][i]==1.0):\n",
    "           temp.append(j)\n",
    "    print(len(temp))\n",
    "    vert_data[tuple([i-3])]=temp  "
   ]
  },
  {
   "cell_type": "code",
   "execution_count": 5,
   "metadata": {},
   "outputs": [
    {
     "data": {
      "text/plain": [
       "[[0], [1], [2], [3], [4], [5], [6], [8], [9]]"
      ]
     },
     "execution_count": 5,
     "metadata": {},
     "output_type": "execute_result"
    }
   ],
   "source": [
    "min_support = 200\n",
    "one_itemsets = [[i] for i in range(0,10) if len(vert_data[tuple([i])])>=min_support]\n",
    "one_itemsets"
   ]
  },
  {
   "cell_type": "code",
   "execution_count": 6,
   "metadata": {},
   "outputs": [
    {
     "name": "stdout",
     "output_type": "stream",
     "text": [
      "[ Murder,  ]\n",
      "[ Rape,  ]\n",
      "[ Foeticide,  ]\n",
      "[ Kidnapping and Abduction,  ]\n",
      "[ Abetment of suicide,  ]\n",
      "[ Exposure and abandonment,  ]\n",
      "[ Procuration of minor girls,  ]\n",
      "[ Prohibition of child marriage act,  ]\n",
      "[ Other Crimes,  ]\n",
      "[ Murder,  Rape,  ]\n",
      "[ Rape,  Foeticide,  ]\n",
      "[ Exposure and abandonment,  Other Crimes,  ]\n",
      "[ Rape,  Kidnapping and Abduction,  ]\n",
      "[ Kidnapping and Abduction,  Prohibition of child marriage act,  ]\n",
      "[ Rape,  Exposure and abandonment,  ]\n",
      "[ Rape,  Prohibition of child marriage act,  ]\n",
      "[ Kidnapping and Abduction,  Other Crimes,  ]\n",
      "[ Murder,  Exposure and abandonment,  ]\n",
      "[ Rape,  Other Crimes,  ]\n",
      "[ Murder,  Other Crimes,  ]\n",
      "[ Murder,  Kidnapping and Abduction,  ]\n",
      "[ Murder,  Prohibition of child marriage act,  ]\n",
      "[ Murder,  Foeticide,  ]\n",
      "[ Kidnapping and Abduction,  Exposure and abandonment,  ]\n",
      "[ Murder,  Rape,  Kidnapping and Abduction,  ]\n"
     ]
    }
   ],
   "source": [
    "freq_itemsets = []\n",
    "freq_itemsets.append(one_itemsets)\n",
    "i=0\n",
    "while(1):\n",
    "    itemsets_n = freq_itemsets[i] \n",
    "    #print(i, itemsets_n)\n",
    "    itemsets_nplusone = [] \n",
    "    for a in range(0, len(itemsets_n)): # iteration to get the first n-item set\n",
    "        for b in range(a+1, len(itemsets_n)): # iteration to get the second n-item set\n",
    "            x=set(itemsets_n[a]).union(set(itemsets_n[b])) #generate a set of n+1-items by merging two n-item sets\n",
    "            if(len(x)==i+2): # checking if the result of merging two n-item sets result in n+1-items set\n",
    "                x=list(x)\n",
    "                vert = set(vert_data[tuple(itemsets_n[a])]).intersection(set(vert_data[tuple(itemsets_n[b])])) #getting all the datapoints having all the n+1 items\n",
    "                if(len(vert)>=min_support):  #checking if the n+1-item set is frequent\n",
    "                    itemsets_nplusone.append(x)    #appending the n+1-item set to the n+1-itemsets\n",
    "                    vert_data[tuple(sorted(tuple(x)))] = vert   #adding the n+1-item set info to the vertcal data\n",
    "                    \n",
    "    if(len(itemsets_nplusone)==0):  #break if the n+1-itemset is empty\n",
    "        break \n",
    "        \n",
    "    itemsets_nplusone = set(tuple(sorted(sub)) for sub in itemsets_nplusone)  #remove duplicate list items\n",
    "    itemsets_nplusone = [list(i) for i in itemsets_nplusone]   #convert tuple items to list items\n",
    "    freq_itemsets.append(itemsets_nplusone)  #append frequent n+1-itemsets\n",
    "    i=i+1\n",
    "crime = [\"Murder\", \"Rape\", \"Foeticide\", \"Kidnapping and Abduction\", \"Abetment of suicide\", \"Exposure and abandonment\", \"Procuration of minor girls\", \"Selling of girls for prostitution\", \"Prohibition of child marriage act\", \"Other Crimes\"]\n",
    "for k_itemsets in freq_itemsets:\n",
    "    for itemset in k_itemsets:\n",
    "        print(\"[\", end =\" \")\n",
    "        for item in itemset:\n",
    "            print(crime[item]+\", \", end =\" \")\n",
    "        print(\"]\")"
   ]
  },
  {
   "cell_type": "markdown",
   "metadata": {},
   "source": [
    "<img src=./docs/rules.png width='500px' height='2300px'>"
   ]
  },
  {
   "cell_type": "code",
   "execution_count": 7,
   "metadata": {},
   "outputs": [
    {
     "name": "stdout",
     "output_type": "stream",
     "text": [
      "conf of ({0}, {1}) = 0.5197978096040438\n",
      "conf of ({5}, {0}) = 0.509009009009009\n",
      "conf of ({2}, {0}) = 0.5011185682326622\n"
     ]
    }
   ],
   "source": [
    "min_conf = 0.5\n",
    "rules = []\n",
    "for i in range(1,len(freq_itemsets)):\n",
    "    for itemset in freq_itemsets[i]:\n",
    "        for j in range(1, len(itemset)):\n",
    "            listx=list(itertools.combinations(itemset, j)) #generate all subsets of length j in itemset\n",
    "            for x in listx:\n",
    "                conf = len(vert_data[tuple(itemset)])/len(vert_data[tuple(x)]) #computing confidence for the rule x -> y\n",
    "                x=set(x)  \n",
    "                y=set(itemset).difference(x) \n",
    "                if conf>=min_conf:\n",
    "                    print(\"conf of\",tuple([x,y]),\"=\",conf) #interesting rules\n",
    "                    rules.append(tuple([x,y]))"
   ]
  },
  {
   "cell_type": "code",
   "execution_count": 8,
   "metadata": {},
   "outputs": [
    {
     "name": "stdout",
     "output_type": "stream",
     "text": [
      "Murder,  ---> Rape,  \n",
      "Exposure and abandonment,  ---> Murder,  \n",
      "Foeticide,  ---> Murder,  \n"
     ]
    }
   ],
   "source": [
    "#finalrules = []\n",
    "for rule in rules:\n",
    "    #finalrule = []\n",
    "    a = rule[0]\n",
    "    b=rule[1]\n",
    "    for elem in a:\n",
    "        print(crime[elem]+\", \", end=\" \")\n",
    "        #finalrule.append(crime[elem])\n",
    "    print(\"--->\", end=\" \")\n",
    "    #finalrule.append(\"--->\")\n",
    "    for elem in b:\n",
    "        print(crime[elem]+\", \", end=\" \")\n",
    "        #finalrule.append(crime[elem])\n",
    "    #finalrules.append(finalrule)\n",
    "    print()"
   ]
  }
 ],
 "metadata": {
  "kernelspec": {
   "display_name": "Python 3",
   "language": "python",
   "name": "python3"
  },
  "language_info": {
   "codemirror_mode": {
    "name": "ipython",
    "version": 3
   },
   "file_extension": ".py",
   "mimetype": "text/x-python",
   "name": "python",
   "nbconvert_exporter": "python",
   "pygments_lexer": "ipython3",
   "version": "3.7.4"
  }
 },
 "nbformat": 4,
 "nbformat_minor": 4
}
