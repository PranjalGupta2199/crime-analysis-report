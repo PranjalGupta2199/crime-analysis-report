{
 "cells": [
  {
   "cell_type": "markdown",
   "metadata": {},
   "source": [
    "# Agglomerative Hierarchical Clustering\n",
    "\n",
    "In this technique, initially each data point is considered as an individual cluster. At each iteration, the similar clusters merge with other clusters until one cluster or K clusters are formed. There are multiple ways to calculate similarity between clusters. In this project we used 2 ways-\n",
    "#### 1) Single Linkage (MIN)\n",
    "#### 2) Complete Linkage (MAX)"
   ]
  },
  {
   "cell_type": "code",
   "execution_count": 1,
   "metadata": {},
   "outputs": [],
   "source": [
    "import numpy as np\n",
    "import pandas as pd\n",
    "from math import sqrt"
   ]
  },
  {
   "cell_type": "code",
   "execution_count": 2,
   "metadata": {},
   "outputs": [
    {
     "data": {
      "text/html": [
       "<div>\n",
       "<style scoped>\n",
       "    .dataframe tbody tr th:only-of-type {\n",
       "        vertical-align: middle;\n",
       "    }\n",
       "\n",
       "    .dataframe tbody tr th {\n",
       "        vertical-align: top;\n",
       "    }\n",
       "\n",
       "    .dataframe thead th {\n",
       "        text-align: right;\n",
       "    }\n",
       "</style>\n",
       "<table border=\"1\" class=\"dataframe\">\n",
       "  <thead>\n",
       "    <tr style=\"text-align: right;\">\n",
       "      <th></th>\n",
       "      <th>1</th>\n",
       "      <th>2</th>\n",
       "      <th>3</th>\n",
       "      <th>4</th>\n",
       "      <th>5</th>\n",
       "      <th>6</th>\n",
       "      <th>7</th>\n",
       "      <th>8</th>\n",
       "      <th>9</th>\n",
       "      <th>10</th>\n",
       "      <th>11</th>\n",
       "      <th>12</th>\n",
       "    </tr>\n",
       "  </thead>\n",
       "  <tbody>\n",
       "    <tr>\n",
       "      <th>0</th>\n",
       "      <td>1</td>\n",
       "      <td>2.0</td>\n",
       "      <td>3.0</td>\n",
       "      <td>4.0</td>\n",
       "      <td>5.0</td>\n",
       "      <td>6.0</td>\n",
       "      <td>7.0</td>\n",
       "      <td>8.0</td>\n",
       "      <td>9.0</td>\n",
       "      <td>10.0</td>\n",
       "      <td>11.0</td>\n",
       "      <td>12.0</td>\n",
       "    </tr>\n",
       "    <tr>\n",
       "      <th>1</th>\n",
       "      <td>2001</td>\n",
       "      <td>35.0</td>\n",
       "      <td>84.0</td>\n",
       "      <td>0.0</td>\n",
       "      <td>57.0</td>\n",
       "      <td>7.0</td>\n",
       "      <td>22.0</td>\n",
       "      <td>12.0</td>\n",
       "      <td>0.0</td>\n",
       "      <td>6.0</td>\n",
       "      <td>47.0</td>\n",
       "      <td>270.0</td>\n",
       "    </tr>\n",
       "    <tr>\n",
       "      <th>2</th>\n",
       "      <td>2001</td>\n",
       "      <td>0.0</td>\n",
       "      <td>0.0</td>\n",
       "      <td>0.0</td>\n",
       "      <td>0.0</td>\n",
       "      <td>0.0</td>\n",
       "      <td>0.0</td>\n",
       "      <td>0.0</td>\n",
       "      <td>0.0</td>\n",
       "      <td>0.0</td>\n",
       "      <td>0.0</td>\n",
       "      <td>0.0</td>\n",
       "    </tr>\n",
       "    <tr>\n",
       "      <th>3</th>\n",
       "      <td>2001</td>\n",
       "      <td>0.0</td>\n",
       "      <td>0.0</td>\n",
       "      <td>0.0</td>\n",
       "      <td>18.0</td>\n",
       "      <td>0.0</td>\n",
       "      <td>0.0</td>\n",
       "      <td>0.0</td>\n",
       "      <td>0.0</td>\n",
       "      <td>0.0</td>\n",
       "      <td>0.0</td>\n",
       "      <td>18.0</td>\n",
       "    </tr>\n",
       "    <tr>\n",
       "      <th>4</th>\n",
       "      <td>2001</td>\n",
       "      <td>2.0</td>\n",
       "      <td>16.0</td>\n",
       "      <td>0.0</td>\n",
       "      <td>26.0</td>\n",
       "      <td>0.0</td>\n",
       "      <td>1.0</td>\n",
       "      <td>16.0</td>\n",
       "      <td>1.0</td>\n",
       "      <td>2.0</td>\n",
       "      <td>18.0</td>\n",
       "      <td>83.0</td>\n",
       "    </tr>\n",
       "  </tbody>\n",
       "</table>\n",
       "</div>"
      ],
      "text/plain": [
       "     1     2     3    4     5    6     7     8    9     10    11     12\n",
       "0     1   2.0   3.0  4.0   5.0  6.0   7.0   8.0  9.0  10.0  11.0   12.0\n",
       "1  2001  35.0  84.0  0.0  57.0  7.0  22.0  12.0  0.0   6.0  47.0  270.0\n",
       "2  2001   0.0   0.0  0.0   0.0  0.0   0.0   0.0  0.0   0.0   0.0    0.0\n",
       "3  2001   0.0   0.0  0.0  18.0  0.0   0.0   0.0  0.0   0.0   0.0   18.0\n",
       "4  2001   2.0  16.0  0.0  26.0  0.0   1.0  16.0  1.0   2.0  18.0   83.0"
      ]
     },
     "execution_count": 2,
     "metadata": {},
     "output_type": "execute_result"
    }
   ],
   "source": [
    "dataset = pd.read_csv('india-basemap/data_clubbed.csv', header=None)\n",
    "dataset.head()\n",
    "states = dataset[0]\n",
    "dataset.drop(0, inplace=True, axis=1)\n",
    "dataset.head()"
   ]
  },
  {
   "cell_type": "markdown",
   "metadata": {},
   "source": [
    "### Year-wise Clustering Analysis\n",
    "\n",
    "We perform year-wise clustering analysis for all states. To find the clusters for a particular based on their crime records, specify the year in the 'year' variable"
   ]
  },
  {
   "cell_type": "code",
   "execution_count": 3,
   "metadata": {},
   "outputs": [],
   "source": [
    "year = 2014\n",
    "year_list = []\n",
    "start_range = 0\n",
    "for i in range(len(dataset)):\n",
    "    if dataset[1].loc[i] == year:\n",
    "        start_range = i\n",
    "        break\n",
    "\n",
    "end_range = 0   \n",
    "for i in range(len(dataset)):\n",
    "    if dataset[1].loc[i] == year:\n",
    "        end_range += 1\n",
    "end_range = end_range + start_range\n",
    "dataset.drop(1, inplace=True, axis=1)\n",
    "for i in range(start_range, end_range+1):\n",
    "    year_list.append(dataset.loc[i])"
   ]
  },
  {
   "cell_type": "markdown",
   "metadata": {},
   "source": [
    "### Step 1 - Distance Matrix\n",
    "Euclidean Distance is used to calculate the similarity between 2 rows of the dataset. This is used to create the distance matrix."
   ]
  },
  {
   "cell_type": "code",
   "execution_count": 4,
   "metadata": {},
   "outputs": [],
   "source": [
    "def euclidean_distance(row1, row2):\n",
    "    distance = 0.0\n",
    "    for i in range(0,11):\n",
    "        distance += (row1[i] - row2[i])**2\n",
    "    return sqrt(distance)"
   ]
  },
  {
   "cell_type": "markdown",
   "metadata": {},
   "source": [
    "### Step 2 - Smallest Value\n",
    "\n",
    "The smallest value in the upper triangle of the distance matrix is used to find the smallest distance between 2 cluster."
   ]
  },
  {
   "cell_type": "code",
   "execution_count": 5,
   "metadata": {},
   "outputs": [],
   "source": [
    "def smallest_val(arr, clusters, n, linkage):\n",
    "    smallest = 10**9\n",
    "    small_i = 0\n",
    "    small_j = 0\n",
    "    for i in range(0, n):\n",
    "        for j in range(i+1, n):\n",
    "            if arr[i][j] < smallest:\n",
    "                smallest = arr[i][j]\n",
    "                small_i = i\n",
    "                small_j = j\n",
    "    update_matrix(arr, clusters, small_i, small_j, n, linkage)\n",
    "    #print(arr)\n",
    "    return smallest"
   ]
  },
  {
   "cell_type": "markdown",
   "metadata": {},
   "source": [
    "### Step 3 - Update the distance matrix\n",
    "\n",
    "The distance matrix is updated according to the linkage specified in the argument. The 2 different linkages are -\n",
    "- Single Linkage - Sim(C1,C2) = Min Sim(Pi,Pj) such that Pi ∈ C1 & Pj ∈ C2\n",
    "- Complete Linkage - im(C1,C2) = Max Sim(Pi,Pj) such that Pi ∈ C1 & Pj ∈ C2"
   ]
  },
  {
   "cell_type": "code",
   "execution_count": 6,
   "metadata": {},
   "outputs": [],
   "source": [
    "def update_matrix(arr, clusters, i, j, n, linkage):\n",
    "    temp_list = []\n",
    "    temp_list.append(i)\n",
    "    temp_list.append(j)\n",
    "    temp_list.append(arr[i][j])\n",
    "    clusters.append(temp_list)\n",
    "    print('Merged' , i, j, 'with distance', arr[i][j])\n",
    "    for a in range(0, n):\n",
    "        for b in range(a+1, n):\n",
    "            if ((a == i) and (b != j)) or ((a == j) and (b != i)):\n",
    "                if linkage == 'single':\n",
    "                    arr[a][b] = min(arr[i][b], arr[j][b])\n",
    "                    arr[b][a] = min(arr[i][b], arr[j][b])\n",
    "                elif linkage == 'complete':\n",
    "                    arr[a][b] = max(arr[i][b], arr[j][b])\n",
    "                    arr[b][a] = max(arr[i][b], arr[j][b])\n",
    "            elif ((a != i) and (b == j)) or ((a != j) and (b == i)):\n",
    "                if linkage == 'single':\n",
    "                    arr[a][b] = min(arr[a][i], arr[a][j])\n",
    "                    arr[b][a] = min(arr[a][i], arr[a][j])\n",
    "                elif linkage == 'complete':\n",
    "                    arr[a][b] = max(arr[a][i], arr[a][j])\n",
    "                    arr[b][a] = max(arr[a][i], arr[a][j])\n",
    "    for a in range(0, n):\n",
    "        arr[i][a] = 10**9\n",
    "        arr[a][i] = 10**9\n",
    "    "
   ]
  },
  {
   "cell_type": "code",
   "execution_count": 7,
   "metadata": {},
   "outputs": [],
   "source": [
    "data = dataset.values.tolist()\n",
    "n = end_range - start_range \n",
    "arr = [[0 for i in range(n)] for j in range(n)]\n",
    "for i in range(start_range, end_range):\n",
    "    for j in range(i+1, end_range):\n",
    "        arr[i-start_range][j-end_range] = euclidean_distance(data[i],data[j])\n",
    "        arr[j-end_range][i-start_range] = euclidean_distance(data[i],data[j])"
   ]
  },
  {
   "cell_type": "markdown",
   "metadata": {},
   "source": [
    "### Step 4 - Find the clusters using DFS\n",
    "\n",
    "The connected components i.e the clusters are found by creating a graph and finding the connect components using DFS."
   ]
  },
  {
   "cell_type": "code",
   "execution_count": 8,
   "metadata": {},
   "outputs": [],
   "source": [
    "class Graph: \n",
    "    def __init__(self,V): \n",
    "        self.V = V \n",
    "        self.adj = [[] for i in range(V)] \n",
    "\n",
    "    def DFSUtil(self, temp, v, visited): \n",
    "        visited[v] = True\n",
    "        temp.append(v) \n",
    "        for i in self.adj[v]: \n",
    "            if visited[i] == False: \n",
    "                temp = self.DFSUtil(temp, i, visited) \n",
    "        return temp \n",
    "\n",
    "    def addEdge(self, v, w): \n",
    "        self.adj[v].append(w) \n",
    "        self.adj[w].append(v) \n",
    "\n",
    "    def connectedComponents(self): \n",
    "        visited = [] \n",
    "        cc = [] \n",
    "        for i in range(self.V): \n",
    "            visited.append(False) \n",
    "        for v in range(self.V): \n",
    "            if visited[v] == False: \n",
    "                temp = [] \n",
    "                cc.append(self.DFSUtil(temp, v, visited)) \n",
    "        return cc"
   ]
  },
  {
   "cell_type": "markdown",
   "metadata": {},
   "source": [
    "### Results -\n",
    "\n",
    "- Using elbow method we found that 10 clusters yield the best results for this dataset\n",
    "- After finding the first 10 clusters, we perform a demographic survey of the data\n",
    "- The states that fall into the same cluster have similar crime patterns i.e the number and type of crimes\n",
    "- It is noticed that all the coastal states like Lakshadweep, Andaman and Nicobar Islands, Daman & Diu and D&N haveli fall into the same cluster very often\n",
    "- Another observation is that most of the Northeastern states fall into the same cluster"
   ]
  },
  {
   "cell_type": "code",
   "execution_count": 9,
   "metadata": {},
   "outputs": [
    {
     "name": "stdout",
     "output_type": "stream",
     "text": [
      "Merged 31 32 with distance 6.0\n",
      "Merged 1 15 with distance 8.774964387392123\n",
      "Merged 32 34 with distance 13.0\n",
      "Merged 18 35 with distance 15.748015748023622\n",
      "Merged 9 30 with distance 17.175564037317667\n",
      "Merged 29 35 with distance 27.331300737432898\n",
      "Merged 34 35 with distance 54.42425929675111\n",
      "Merged 16 17 with distance 63.324560795950255\n",
      "Merged 15 22 with distance 68.97100840208152\n",
      "Merged 10 25 with distance 75.40557008603542\n",
      "Merged 8 27 with distance 86.19164692706596\n",
      "Merged 5 25 with distance 117.56700217322886\n",
      "Merged 17 22 with distance 125.80540528928\n",
      "Merged 22 30 with distance 170.06469357276953\n",
      "Merged 25 27 with distance 226.48399501951567\n",
      "Merged 30 35 with distance 254.75478405713994\n",
      "Merged 20 24 with distance 312.9632566292727\n",
      "Merged 0 19 with distance 453.1478787327598\n",
      "Merged 19 24 with distance 530.347998959174\n",
      "Merged 27 35 with distance 566.5439082719008\n",
      "Merged 7 23 with distance 709.052184257266\n",
      "Merged 4 21 with distance 729.0596683399789\n",
      "Merged 12 23 with distance 826.3050284247337\n",
      "Merged 6 11 with distance 1059.823098446151\n",
      "Merged 23 24 with distance 1084.1701895920216\n",
      "Merged 11 21 with distance 1361.1741255254597\n",
      "\n",
      "\n",
      "Cluster 0 :['0', 'nagaland', 'tamil nadu', 'odisha', 'sikkim', 'gujarat', 'karnataka']\n",
      "Cluster 1 :['andhra pradesh', 'maharashtra', 'rajasthan', 'meghalaya', 'manipur', 'chandigarh', 'himachal pradesh', 'puducherry', 'mizoram', 'a&n islands', 'lakshadweep', 'daman & diu', 'd&n haveli', 'uttarakhand', 'haryana', 'tripura', 'jammu & kashmir', 'chhattisgarh']\n",
      "Cluster 2 :['arunachal pradesh']\n",
      "Cluster 3 :['assam']\n",
      "Cluster 4 :['bihar', 'punjab', 'jharkhand', 'goa']\n",
      "Cluster 5 :['kerala']\n",
      "Cluster 6 :['madhya pradesh']\n",
      "Cluster 7 :['uttar pradesh']\n",
      "Cluster 8 :['west bengal']\n",
      "Cluster 9 :['delhi']\n"
     ]
    }
   ],
   "source": [
    "g = Graph(n);\n",
    "linkage = 'complete'\n",
    "clusters = []\n",
    "for cnt in range(0,n-1):\n",
    "    val = smallest_val(arr, clusters, n, linkage)\n",
    "    for i in range(0,len(clusters)):\n",
    "        g.addEdge(clusters[i][0], clusters[i][1]) \n",
    "    cc = g.connectedComponents() \n",
    "    if len(cc) == 10:\n",
    "        print('\\n')\n",
    "        for i in range(0, len(cc)):\n",
    "            temp_states = []\n",
    "            for j in range(0, len(cc[i])):\n",
    "                temp_states.append(states[cc[i][j]])\n",
    "            print(\"Cluster \"+ str(i)+\" :\"+ str(temp_states))\n",
    "        break"
   ]
  },
  {
   "cell_type": "markdown",
   "metadata": {},
   "source": [
    "### Cross-checking the results\n",
    "\n",
    "The scipy library is used to cross-check the results and to get a dendogram for the data"
   ]
  },
  {
   "cell_type": "code",
   "execution_count": 10,
   "metadata": {},
   "outputs": [
    {
     "data": {
      "image/png": "[encoded data removed]",
      "text/plain": [
       "<Figure size 1800x720 with 1 Axes>"
      ]
     },
     "metadata": {
      "needs_background": "light"
     },
     "output_type": "display_data"
    }
   ],
   "source": [
    "from scipy.cluster.hierarchy import dendrogram, linkage\n",
    "from matplotlib import pyplot as plt\n",
    "X = np.array(year_list)\n",
    "Z = linkage(X, 'complete')\n",
    "fig = plt.figure(figsize=(25, 10))\n",
    "dn = dendrogram(Z)"
   ]
  }
 ],
 "metadata": {
  "kernelspec": {
   "display_name": "Python 3",
   "language": "python",
   "name": "python3"
  },
  "language_info": {
   "codemirror_mode": {
    "name": "ipython",
    "version": 3
   },
   "file_extension": ".py",
   "mimetype": "text/x-python",
   "name": "python",
   "nbconvert_exporter": "python",
   "pygments_lexer": "ipython3",
   "version": "3.7.5"
  }
 },
 "nbformat": 4,
 "nbformat_minor": 2
}
